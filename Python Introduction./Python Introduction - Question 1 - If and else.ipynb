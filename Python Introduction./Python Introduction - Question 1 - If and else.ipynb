{
 "cells": [
  {
   "cell_type": "code",
   "execution_count": 2,
   "metadata": {},
   "outputs": [
    {
     "name": "stdout",
     "output_type": "stream",
     "text": [
      "Enter the number24\n",
      "Not Weird\n"
     ]
    }
   ],
   "source": [
    "num = int(input('Enter the number'))\n",
    "if num % 2 != 0: \n",
    "    print('Weird')\n",
    "elif num%2==0 and num >= 2  and num <=5: \n",
    "    print('Not weird')\n",
    "elif num%2==0 and num >=6 and num <=20:\n",
    "    print('Weird')\n",
    "elif num%2 ==0 and num>20:\n",
    "    print('Not Weird')"
   ]
  }
 ],
 "metadata": {
  "kernelspec": {
   "display_name": "Python 3",
   "language": "python",
   "name": "python3"
  },
  "language_info": {
   "codemirror_mode": {
    "name": "ipython",
    "version": 3
   },
   "file_extension": ".py",
   "mimetype": "text/x-python",
   "name": "python",
   "nbconvert_exporter": "python",
   "pygments_lexer": "ipython3",
   "version": "3.7.4"
  }
 },
 "nbformat": 4,
 "nbformat_minor": 2
}
