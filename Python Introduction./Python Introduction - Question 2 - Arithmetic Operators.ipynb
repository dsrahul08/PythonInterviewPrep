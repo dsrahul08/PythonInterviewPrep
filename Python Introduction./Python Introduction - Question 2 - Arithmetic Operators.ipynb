{
 "cells": [
  {
   "cell_type": "code",
   "execution_count": 3,
   "metadata": {},
   "outputs": [],
   "source": [
    "def calc(a,b):\n",
    "    print('The sum of a and b is:', a+b)\n",
    "    print('The minus of a and b is:', a-b)\n",
    "    print('The multiplication of a and b is:', a*b)"
   ]
  },
  {
   "cell_type": "code",
   "execution_count": 4,
   "metadata": {},
   "outputs": [
    {
     "name": "stdout",
     "output_type": "stream",
     "text": [
      "The sum of a and b is: 12\n",
      "The minus of a and b is: 8\n",
      "The multiplication of a and b is: 20\n"
     ]
    }
   ],
   "source": [
    "calc(10,2)"
   ]
  },
  {
   "cell_type": "code",
   "execution_count": 5,
   "metadata": {},
   "outputs": [
    {
     "name": "stdout",
     "output_type": "stream",
     "text": [
      "Enter the first number10\n",
      "Enter the second number2\n",
      "The sum of a and b is: 12\n",
      "The minus of a and b is: 8\n",
      "The multiplication of a and b is: 20\n"
     ]
    }
   ],
   "source": [
    "a = int(input('Enter the first number'))\n",
    "b = int(input('Enter the second number'))\n",
    "print('The sum of a and b is:', a+b)\n",
    "print('The minus of a and b is:', a-b)\n",
    "print('The multiplication of a and b is:', a*b)"
   ]
  },
  {
   "cell_type": "code",
   "execution_count": null,
   "metadata": {},
   "outputs": [],
   "source": []
  }
 ],
 "metadata": {
  "kernelspec": {
   "display_name": "Python 3",
   "language": "python",
   "name": "python3"
  },
  "language_info": {
   "codemirror_mode": {
    "name": "ipython",
    "version": 3
   },
   "file_extension": ".py",
   "mimetype": "text/x-python",
   "name": "python",
   "nbconvert_exporter": "python",
   "pygments_lexer": "ipython3",
   "version": "3.7.4"
  }
 },
 "nbformat": 4,
 "nbformat_minor": 2
}
